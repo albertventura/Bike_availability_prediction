{
 "cells": [
  {
   "cell_type": "code",
   "execution_count": 20,
   "metadata": {},
   "outputs": [],
   "source": [
    "import torch\n",
    "from torch import nn \n",
    "import torch.nn.functional as F\n",
    "from torch.utils.data import Dataset, DataLoader\n",
    "from torch.optim import lr_scheduler\n",
    "import optuna\n",
    "import pandas as pd\n",
    "import numpy as np\n",
    "import matplotlib.pyplot as plt\n",
    "from sklearn.model_selection import train_test_split"
   ]
  },
  {
   "cell_type": "code",
   "execution_count": 21,
   "metadata": {},
   "outputs": [],
   "source": [
    "TARGET = 'percentage_docks_available'\n",
    "SEQUENCE_LENGTH = 4\n",
    "BATCH_SIZE = 16384*2"
   ]
  },
  {
   "cell_type": "code",
   "execution_count": 22,
   "metadata": {},
   "outputs": [],
   "source": [
    "df = pd.read_csv('../datasets/train_dataset.csv')"
   ]
  },
  {
   "cell_type": "code",
   "execution_count": 23,
   "metadata": {},
   "outputs": [],
   "source": [
    "df = df[df.status == 1]\n",
    "assert df[(df.is_renting != 1) & (df.is_installed != 1)].shape[0] == 0"
   ]
  },
  {
   "cell_type": "code",
   "execution_count": 24,
   "metadata": {},
   "outputs": [],
   "source": [
    "cols = [col for col in df.columns if 'ctx' in col]"
   ]
  },
  {
   "cell_type": "code",
   "execution_count": 25,
   "metadata": {},
   "outputs": [],
   "source": [
    "df = df[cols + [TARGET]]"
   ]
  },
  {
   "cell_type": "code",
   "execution_count": 26,
   "metadata": {},
   "outputs": [],
   "source": [
    "df_train, df_test = train_test_split(df, test_size=0.3, shuffle=True, random_state=42)"
   ]
  },
  {
   "cell_type": "code",
   "execution_count": 27,
   "metadata": {},
   "outputs": [],
   "source": [
    "y_train, y_test = df_train.pop(TARGET), df_test.pop(TARGET)"
   ]
  },
  {
   "attachments": {},
   "cell_type": "markdown",
   "metadata": {},
   "source": [
    "## LSTM"
   ]
  },
  {
   "cell_type": "code",
   "execution_count": 28,
   "metadata": {},
   "outputs": [],
   "source": [
    "device = torch.device('cuda' if torch.cuda.is_available() else 'cpu')"
   ]
  },
  {
   "cell_type": "code",
   "execution_count": 29,
   "metadata": {},
   "outputs": [],
   "source": [
    "class BicingDataset(Dataset):\n",
    "\n",
    "    def __init__(self, X, y):\n",
    "\n",
    "        self.x_train = torch.tensor(X.values.astype('float32'), dtype=torch.float32).reshape(-1, SEQUENCE_LENGTH, 1).to(device)\n",
    "        self.y_train = torch.tensor(y.values.astype('float32'), dtype = torch.float32).view(-1,1).to(device)\n",
    "\n",
    "    def __len__(self):\n",
    "        return len(self.y_train)\n",
    "    \n",
    "    def __getitem__(self, idx):\n",
    "        return self.x_train[idx], self.y_train[idx]"
   ]
  },
  {
   "cell_type": "code",
   "execution_count": 30,
   "metadata": {},
   "outputs": [],
   "source": [
    "train_ds = BicingDataset(df_train, y_train)\n",
    "test_ds = BicingDataset(df_test, y_test)"
   ]
  },
  {
   "cell_type": "code",
   "execution_count": 31,
   "metadata": {},
   "outputs": [],
   "source": [
    "train_loader = DataLoader(train_ds, batch_size=BATCH_SIZE, shuffle = True)\n",
    "test_loader = DataLoader(test_ds, batch_size=BATCH_SIZE, shuffle = False)"
   ]
  },
  {
   "cell_type": "code",
   "execution_count": 32,
   "metadata": {},
   "outputs": [],
   "source": [
    "class LSTM(nn.Module):\n",
    "\n",
    "    def __init__(self, input_size: int, hidden_size: int, num_layers: int, output_size: int):\n",
    "        super().__init__()\n",
    "        self.hidden_size = hidden_size\n",
    "        self.num_layers = num_layers\n",
    "        self.lstm = nn.LSTM(input_size, hidden_size, num_layers, batch_first = True)\n",
    "        self.fc = nn.Linear(hidden_size, output_size)\n",
    "\n",
    "    def forward(self, X):\n",
    "        h0 = torch.zeros(self.num_layers, X.size(0), self.hidden_size).to(device)\n",
    "        c0 = torch.zeros(self.num_layers, X.size(0), self.hidden_size).to(device)\n",
    "        out, _ = self.lstm(X, (h0, c0))\n",
    "        out = out[:, -1, :]\n",
    "        out = self.fc(out)\n",
    "        return out\n",
    "        "
   ]
  },
  {
   "cell_type": "code",
   "execution_count": 33,
   "metadata": {},
   "outputs": [],
   "source": [
    "def compute_rmse(predictions: torch.tensor, targets: torch.tensor):\n",
    "\n",
    "    error = predictions - targets\n",
    "    squared_error = torch.pow(error, 2)\n",
    "    mean_squared_error = torch.mean(squared_error)\n",
    "    rmse = torch.sqrt(mean_squared_error)\n",
    "    return rmse.item()"
   ]
  },
  {
   "cell_type": "code",
   "execution_count": 34,
   "metadata": {},
   "outputs": [],
   "source": [
    "from typing import Dict, List, Tuple\n",
    "\n",
    "def train_step(model: torch.nn.Module,\n",
    "               loader: torch.utils.data.DataLoader,\n",
    "               loss_fn: torch.nn.Module,\n",
    "               optimizer: torch.optim.Optimizer,\n",
    "               device: torch.device) -> Tuple[float, float]:\n",
    "    \n",
    "    model.train()\n",
    "    train_loss = 0\n",
    "    train_rmse = 0\n",
    "\n",
    "    for batch, (X, y) in enumerate(loader):\n",
    "        X,y = X.to(device), y.to(device)\n",
    "\n",
    "        y_pred = model(X)\n",
    "\n",
    "        loss = loss_fn(y_pred, y)\n",
    "        train_loss += loss.item()\n",
    "        train_rmse += compute_rmse(y_pred, y)\n",
    "\n",
    "        optimizer.zero_grad()\n",
    "\n",
    "        loss.backward()\n",
    "\n",
    "        optimizer.step()\n",
    "    \n",
    "    train_loss = train_loss / len(loader)\n",
    "    train_rmse = train_rmse / len(loader)\n",
    "\n",
    "    return train_loss, train_rmse\n",
    "\n",
    "        "
   ]
  },
  {
   "cell_type": "code",
   "execution_count": null,
   "metadata": {},
   "outputs": [],
   "source": []
  },
  {
   "cell_type": "code",
   "execution_count": 35,
   "metadata": {},
   "outputs": [],
   "source": [
    "class EarlyStopper:\n",
    "    def __init__(self, patience=1, min_delta=0):\n",
    "        self.patience = patience\n",
    "        self.min_delta = min_delta\n",
    "        self.counter = 0\n",
    "        self.min_validation_loss = np.inf\n",
    "\n",
    "    def early_stop(self, validation_loss):\n",
    "        if validation_loss < self.min_validation_loss:\n",
    "            self.min_validation_loss = validation_loss\n",
    "            self.counter = 0\n",
    "        elif validation_loss > (self.min_validation_loss + self.min_delta):\n",
    "            self.counter += 1\n",
    "            if self.counter >= self.patience:\n",
    "                return True\n",
    "        return False"
   ]
  },
  {
   "cell_type": "code",
   "execution_count": 36,
   "metadata": {},
   "outputs": [],
   "source": [
    "def test_step(model: torch.nn.Module,\n",
    "               loader: torch.utils.data.DataLoader,\n",
    "               loss_fn: torch.nn.Module,\n",
    "               device: torch.device) -> Tuple[float, float]:\n",
    "    \n",
    "    model.eval()\n",
    "\n",
    "    test_loss, test_rmse = 0, 0\n",
    "    with torch.inference_mode():\n",
    "        for batch, (X,y) in enumerate(loader):\n",
    "            X,y = X.to(device), y.to(device)\n",
    "\n",
    "            test_pred = model(X)\n",
    "\n",
    "            loss = loss_fn(test_pred, y)\n",
    "            test_loss += loss.item()\n",
    "\n",
    "            test_rmse += compute_rmse(test_pred, y)\n",
    "        \n",
    "        test_loss = test_loss / len(loader)\n",
    "        test_rmse = test_rmse / len(loader)\n",
    "\n",
    "        return test_loss, test_rmse\n",
    "\n",
    "\n",
    "\n",
    "        "
   ]
  },
  {
   "cell_type": "code",
   "execution_count": 37,
   "metadata": {},
   "outputs": [],
   "source": [
    "def train(model: torch.nn.Module, \n",
    "          train_loader: torch.utils.data.DataLoader, \n",
    "          test_loader: torch.utils.data.DataLoader, \n",
    "          optimizer: torch.optim.Optimizer,\n",
    "          loss_fn: torch.nn.Module,\n",
    "          epochs: int,\n",
    "          device: torch.device,\n",
    "          early_stopping: EarlyStopper = None) -> Dict[str, List]:\n",
    "  \n",
    "\n",
    "  history = {\n",
    "      'train_loss': [],\n",
    "      'train_rmse': [],\n",
    "      'test_loss': [],\n",
    "      'test_rmse': []\n",
    "  }\n",
    "\n",
    "  model.to(device)\n",
    "\n",
    "  for epoch in range(epochs):\n",
    "      train_loss, train_rmse = train_step(model=model,\n",
    "                                          loader= train_loader,\n",
    "                                          loss_fn=loss_fn,\n",
    "                                          optimizer=optimizer,\n",
    "                                          device=device)\n",
    "      \n",
    "      test_loss, test_rmse = test_step(model=model,\n",
    "                                          loader= test_loader,\n",
    "                                          loss_fn=loss_fn,\n",
    "                                          device=device)\n",
    "      \n",
    "      print(\n",
    "        f\"Epoch: {epoch+1} | \"\n",
    "        f\"train_loss: {train_loss:.4f} | \"\n",
    "        f\"train_rmse: {train_rmse:.4f} | \"\n",
    "        f\"test_loss: {test_loss:.4f} | \"\n",
    "        f\"test_rmse: {test_rmse:.4f}\"\n",
    "      )\n",
    "\n",
    "      history[\"train_loss\"].append(train_loss)\n",
    "      history[\"train_rmse\"].append(train_rmse)\n",
    "      history[\"test_loss\"].append(test_loss)\n",
    "      history[\"test_rmse\"].append(test_rmse)\n",
    "      if early_stopping:\n",
    "        if early_stopping.early_stop(test_loss):\n",
    "          break\n",
    "\n",
    "  return history"
   ]
  },
  {
   "cell_type": "code",
   "execution_count": 38,
   "metadata": {},
   "outputs": [
    {
     "name": "stdout",
     "output_type": "stream",
     "text": [
      "Epoch: 1 | train_loss: 0.1294 | train_rmse: 0.3519 | test_loss: 0.0738 | test_rmse: 0.2717\n",
      "Epoch: 2 | train_loss: 0.0673 | train_rmse: 0.2594 | test_loss: 0.0579 | test_rmse: 0.2406\n",
      "Epoch: 3 | train_loss: 0.0424 | train_rmse: 0.2052 | test_loss: 0.0357 | test_rmse: 0.1888\n",
      "Epoch: 4 | train_loss: 0.0341 | train_rmse: 0.1848 | test_loss: 0.0319 | test_rmse: 0.1787\n",
      "Epoch: 5 | train_loss: 0.0286 | train_rmse: 0.1691 | test_loss: 0.0237 | test_rmse: 0.1539\n",
      "Epoch: 6 | train_loss: 0.0184 | train_rmse: 0.1352 | test_loss: 0.0146 | test_rmse: 0.1206\n",
      "Epoch: 7 | train_loss: 0.0134 | train_rmse: 0.1159 | test_loss: 0.0126 | test_rmse: 0.1124\n",
      "Epoch: 8 | train_loss: 0.0127 | train_rmse: 0.1125 | test_loss: 0.0125 | test_rmse: 0.1119\n",
      "Epoch: 9 | train_loss: 0.0126 | train_rmse: 0.1122 | test_loss: 0.0125 | test_rmse: 0.1117\n",
      "Epoch: 10 | train_loss: 0.0126 | train_rmse: 0.1121 | test_loss: 0.0125 | test_rmse: 0.1116\n"
     ]
    }
   ],
   "source": [
    "LEARNING_RATE = 0.001\n",
    "INPUT_SIZE = 1\n",
    "hidden_size = 16\n",
    "num_layers = 3\n",
    "OUTPUT_SIZE = 1\n",
    "EPOCHS = 10\n",
    "\n",
    "model = LSTM(INPUT_SIZE, hidden_size, num_layers, OUTPUT_SIZE)\n",
    "model.to(device)\n",
    "\n",
    "loss = nn.MSELoss()\n",
    "optimizer = torch.optim.Adam(model.parameters(), lr = LEARNING_RATE)\n",
    "\n",
    "history = train(model=model,\n",
    "            train_loader=train_loader,\n",
    "            test_loader=test_loader,\n",
    "            optimizer=optimizer,\n",
    "            loss_fn = loss,\n",
    "            device = device,\n",
    "            epochs = EPOCHS,\n",
    "            early_stopping=EarlyStopper(patience=1, min_delta=0.001))"
   ]
  },
  {
   "cell_type": "code",
   "execution_count": 39,
   "metadata": {},
   "outputs": [
    {
     "data": {
      "text/plain": [
       "<matplotlib.legend.Legend at 0x2b51e26aeb0>"
      ]
     },
     "execution_count": 39,
     "metadata": {},
     "output_type": "execute_result"
    },
    {
     "data": {
      "image/png": "[encoded data removed]",
      "text/plain": [
       "<Figure size 640x480 with 1 Axes>"
      ]
     },
     "metadata": {},
     "output_type": "display_data"
    }
   ],
   "source": [
    "plt.figure()\n",
    "plt.plot(history.get('train_loss'), label = 'train')\n",
    "plt.plot(history.get('test_loss'), label = 'test')\n",
    "plt.legend()"
   ]
  },
  {
   "attachments": {},
   "cell_type": "markdown",
   "metadata": {},
   "source": [
    "## RNN"
   ]
  },
  {
   "cell_type": "code",
   "execution_count": 40,
   "metadata": {},
   "outputs": [],
   "source": [
    "class RNN(nn.Module):\n",
    "\n",
    "    def __init__(self, input_size: int, hidden_size: int, num_layers: int, output_size: int):\n",
    "        super().__init__()\n",
    "        self.hidden_size = hidden_size\n",
    "        self.num_layers = num_layers\n",
    "        self.rnn = nn.RNN(input_size, hidden_size, num_layers, batch_first = True)\n",
    "        self.fc = nn.Linear(hidden_size, output_size)\n",
    "\n",
    "    def forward(self, X):\n",
    "        h0 = torch.zeros(self.num_layers, X.size(0), self.hidden_size).to(device)\n",
    "        out, _ = self.rnn(X, h0)\n",
    "        out = out[:, -1, :]\n",
    "        out = self.fc(out)\n",
    "        return out\n",
    "        "
   ]
  },
  {
   "cell_type": "code",
   "execution_count": 41,
   "metadata": {},
   "outputs": [
    {
     "name": "stdout",
     "output_type": "stream",
     "text": [
      "Epoch: 1 | train_loss: 0.0427 | train_rmse: 0.2030 | test_loss: 0.0234 | test_rmse: 0.1528\n",
      "Epoch: 2 | train_loss: 0.0191 | train_rmse: 0.1380 | test_loss: 0.0156 | test_rmse: 0.1250\n",
      "Epoch: 3 | train_loss: 0.0141 | train_rmse: 0.1189 | test_loss: 0.0129 | test_rmse: 0.1135\n",
      "Epoch: 4 | train_loss: 0.0128 | train_rmse: 0.1130 | test_loss: 0.0126 | test_rmse: 0.1123\n",
      "Epoch: 5 | train_loss: 0.0127 | train_rmse: 0.1127 | test_loss: 0.0126 | test_rmse: 0.1122\n",
      "Epoch: 6 | train_loss: 0.0127 | train_rmse: 0.1127 | test_loss: 0.0126 | test_rmse: 0.1122\n"
     ]
    }
   ],
   "source": [
    "LEARNING_RATE = 0.001\n",
    "INPUT_SIZE = 1\n",
    "hidden_size = 16\n",
    "num_layers = 3\n",
    "OUTPUT_SIZE = 1\n",
    "EPOCHS = 6\n",
    "\n",
    "model = RNN(INPUT_SIZE, hidden_size, num_layers, OUTPUT_SIZE)\n",
    "model.to(device)\n",
    "\n",
    "loss = nn.MSELoss()\n",
    "optimizer = torch.optim.Adam(model.parameters(), lr = LEARNING_RATE)\n",
    "\n",
    "history = train(model=model,\n",
    "            train_loader=train_loader,\n",
    "            test_loader=test_loader,\n",
    "            optimizer=optimizer,\n",
    "            loss_fn = loss,\n",
    "            device = device,\n",
    "            epochs = EPOCHS,\n",
    "            early_stopping=EarlyStopper(patience=0, min_delta=0.001))"
   ]
  },
  {
   "cell_type": "code",
   "execution_count": 42,
   "metadata": {},
   "outputs": [
    {
     "data": {
      "text/plain": [
       "<matplotlib.legend.Legend at 0x2b51e23ce20>"
      ]
     },
     "execution_count": 42,
     "metadata": {},
     "output_type": "execute_result"
    },
    {
     "data": {
      "image/png": "[encoded data removed]",
      "text/plain": [
       "<Figure size 640x480 with 1 Axes>"
      ]
     },
     "metadata": {},
     "output_type": "display_data"
    }
   ],
   "source": [
    "plt.figure()\n",
    "plt.plot(history.get('train_loss'), label = 'train')\n",
    "plt.plot(history.get('test_loss'), label = 'test')\n",
    "plt.legend()"
   ]
  },
  {
   "attachments": {},
   "cell_type": "markdown",
   "metadata": {},
   "source": [
    "## Hybrid model"
   ]
  },
  {
   "cell_type": "code",
   "execution_count": 43,
   "metadata": {},
   "outputs": [],
   "source": [
    "df = pd.read_csv('../datasets/train_dataset.csv')\n",
    "df = df[df.status == 1]\n",
    "assert df[(df.is_renting != 1) & (df.is_installed != 1)].shape[0] == 0"
   ]
  },
  {
   "cell_type": "code",
   "execution_count": 44,
   "metadata": {},
   "outputs": [],
   "source": [
    "ctx_cols = [col for col in df.columns if 'ctx' in col]"
   ]
  },
  {
   "cell_type": "code",
   "execution_count": 45,
   "metadata": {},
   "outputs": [],
   "source": [
    "std_cols = ['lat', 'lon']\n",
    "minmax_cols = ['altitude', 'temp', 'humidity']\n",
    "ohe_cols = ['dayofweek', 'season']"
   ]
  },
  {
   "cell_type": "code",
   "execution_count": 46,
   "metadata": {},
   "outputs": [],
   "source": [
    "fc_cols = ['season', 'altitude', 'temp', 'humidity', 'lat', 'lon', 'dayofweek', 'sin_time', 'cos_time']"
   ]
  },
  {
   "cell_type": "code",
   "execution_count": 47,
   "metadata": {},
   "outputs": [],
   "source": [
    "useful_cols = ctx_cols + fc_cols + [TARGET]"
   ]
  },
  {
   "cell_type": "code",
   "execution_count": 48,
   "metadata": {},
   "outputs": [],
   "source": [
    "from sklearn.preprocessing import OneHotEncoder, MinMaxScaler, StandardScaler\n",
    "from sklearn.pipeline import Pipeline\n",
    "\n",
    "class pdOneHotEncoder(OneHotEncoder):\n",
    "    def __init__(self, cols: list):\n",
    "        super().__init__(sparse_output = False)\n",
    "        self.cols = cols\n",
    "        \n",
    "    def fit(self, X, y):\n",
    "        super().fit(X[self.cols],y)\n",
    "        return self\n",
    "    \n",
    "    def transform(self, X, y = None):\n",
    "        X_ = X.copy()\n",
    "        X_oh = super().transform(X_[self.cols])\n",
    "        feature_names = self.get_feature_names_out()\n",
    "        X_encoded = pd.DataFrame(X_oh, columns=feature_names, index=X_.index)\n",
    "        X_ = pd.concat([X_, X_encoded], axis=1)\n",
    "        X_ = X_.drop(self.cols, axis=1)\n",
    "        return X_\n",
    "    \n",
    "class focusMinMaxScaler(MinMaxScaler):\n",
    "    def __init__(self, cols:list):\n",
    "        super().__init__()\n",
    "        self.cols = cols\n",
    "    def fit(self,X,y):\n",
    "        super().fit(X[self.cols],y)\n",
    "        return self\n",
    "    def transform(self, X):\n",
    "        X_ = X.copy()\n",
    "        X_[self.cols] = super().transform(X_[self.cols])\n",
    "        return X_\n",
    "    \n",
    "class focusStandardScaler(StandardScaler):\n",
    "    def __init__(self, cols:list):\n",
    "        super().__init__()\n",
    "        self.cols = cols\n",
    "    def fit(self,X,y):\n",
    "        super().fit(X[self.cols],y)\n",
    "        return self\n",
    "    def transform(self, X):\n",
    "        X_ = X.copy()\n",
    "        X_[self.cols] = super().transform(X_[self.cols])\n",
    "        return X_"
   ]
  },
  {
   "cell_type": "code",
   "execution_count": 49,
   "metadata": {},
   "outputs": [],
   "source": [
    "def month_to_season(row):\n",
    "    if row.month in [12,1,2]:\n",
    "        return 'winter'\n",
    "    elif row.month in [3, 4, 5]:\n",
    "        return 'spring'\n",
    "    elif row.month in [6,7,8]:\n",
    "        return 'summer'\n",
    "    elif row.month in [9,10,11]:\n",
    "        return 'fall'\n",
    "    else:\n",
    "        raise ValueError('value outside of range 1-12')"
   ]
  },
  {
   "cell_type": "code",
   "execution_count": 51,
   "metadata": {},
   "outputs": [],
   "source": [
    "def hour_to_polar(df):\n",
    "    data = df.copy()\n",
    "    data['sin_time'] = np.sin(data.hour)\n",
    "    data['cos_time'] = np.cos(data.hour)\n",
    "    return data"
   ]
  },
  {
   "cell_type": "code",
   "execution_count": 89,
   "metadata": {},
   "outputs": [
    {
     "data": {
      "text/plain": [
       "['ctx-4',\n",
       " 'ctx-3',\n",
       " 'ctx-2',\n",
       " 'ctx-1',\n",
       " 'season',\n",
       " 'altitude',\n",
       " 'temp',\n",
       " 'humidity',\n",
       " 'lat',\n",
       " 'lon',\n",
       " 'dayofweek',\n",
       " 'sin_time',\n",
       " 'cos_time',\n",
       " 'percentage_docks_available']"
      ]
     },
     "execution_count": 89,
     "metadata": {},
     "output_type": "execute_result"
    }
   ],
   "source": [
    "useful_cols"
   ]
  },
  {
   "cell_type": "code",
   "execution_count": 91,
   "metadata": {},
   "outputs": [],
   "source": [
    "def preprocess(df, test = False):\n",
    "    data = df.copy()\n",
    "    data = hour_to_polar(data)\n",
    "    data['season'] = data.apply(month_to_season, axis = 1)\n",
    "    if test:\n",
    "        return data[[col for col in useful_cols if col != TARGET]]\n",
    "    return data[useful_cols]\n",
    "    "
   ]
  },
  {
   "cell_type": "code",
   "execution_count": 53,
   "metadata": {},
   "outputs": [],
   "source": [
    "df = preprocess(df)"
   ]
  },
  {
   "cell_type": "code",
   "execution_count": 54,
   "metadata": {},
   "outputs": [],
   "source": [
    "df_train, df_test = train_test_split(df, test_size=0.3, shuffle=True, random_state=42)"
   ]
  },
  {
   "cell_type": "code",
   "execution_count": 55,
   "metadata": {},
   "outputs": [],
   "source": [
    "y_train = df_train.pop(TARGET)\n",
    "y_test = df_test.pop(TARGET)"
   ]
  },
  {
   "cell_type": "code",
   "execution_count": 56,
   "metadata": {},
   "outputs": [],
   "source": [
    "pipe = Pipeline([\n",
    "    ('ohe', pdOneHotEncoder(cols = ohe_cols)),\n",
    "    ('mms', focusMinMaxScaler(cols = minmax_cols)),\n",
    "    ('std_cols', focusStandardScaler(cols = std_cols))\n",
    "])"
   ]
  },
  {
   "cell_type": "code",
   "execution_count": 57,
   "metadata": {},
   "outputs": [],
   "source": [
    "pipe.fit(df_train, y_train)\n",
    "df_train_proc = pipe.transform(df_train)\n",
    "df_test_proc = pipe.transform(df_test)"
   ]
  },
  {
   "cell_type": "code",
   "execution_count": 58,
   "metadata": {},
   "outputs": [],
   "source": [
    "non_seq_cols = [col for col in df_train_proc.columns if 'ctx' not in col]"
   ]
  },
  {
   "cell_type": "code",
   "execution_count": 163,
   "metadata": {},
   "outputs": [],
   "source": [
    "class HybridDataset(Dataset):\n",
    "\n",
    "    def __init__(self, X, y):\n",
    "\n",
    "        self.x_seq = torch.tensor(X[ctx_cols].values.astype('float32'), dtype=torch.float32).reshape(-1, SEQUENCE_LENGTH, 1).to(device)\n",
    "        self.x_fc = torch.tensor(X[non_seq_cols].values.astype('float32'), dtype = torch.float32).to(device)\n",
    "        self.y = torch.tensor(y.values.astype('float32'), dtype = torch.float32).view(-1,1).to(device)\n",
    "\n",
    "    def __len__(self):\n",
    "        return len(self.y)\n",
    "    \n",
    "    def __getitem__(self, idx):\n",
    "        return self.x_seq[idx], self.x_fc[idx], self.y[idx]"
   ]
  },
  {
   "cell_type": "code",
   "execution_count": 107,
   "metadata": {},
   "outputs": [],
   "source": [
    "train_ds = HybridDataset(df_train_proc, y_train)"
   ]
  },
  {
   "cell_type": "code",
   "execution_count": 108,
   "metadata": {},
   "outputs": [],
   "source": [
    "test_ds = HybridDataset(df_test_proc, y_test)"
   ]
  },
  {
   "cell_type": "code",
   "execution_count": 109,
   "metadata": {},
   "outputs": [],
   "source": [
    "train_loader = DataLoader(train_ds, batch_size=BATCH_SIZE, shuffle = True)\n",
    "test_loader = DataLoader(test_ds, batch_size=BATCH_SIZE, shuffle = False)"
   ]
  },
  {
   "cell_type": "code",
   "execution_count": 110,
   "metadata": {},
   "outputs": [],
   "source": [
    "x_seq = torch.tensor(df_train_proc[ctx_cols].values.astype('float32'), dtype=torch.float32).reshape(-1, SEQUENCE_LENGTH, 1).to(device)\n",
    "x_fc = torch.tensor(df_train_proc[non_seq_cols].values.astype('float32'), dtype = torch.float32).to(device)"
   ]
  },
  {
   "cell_type": "code",
   "execution_count": 111,
   "metadata": {},
   "outputs": [
    {
     "data": {
      "text/plain": [
       "(torch.Size([1692840, 4, 1]), torch.Size([1692840, 18]))"
      ]
     },
     "execution_count": 111,
     "metadata": {},
     "output_type": "execute_result"
    }
   ],
   "source": [
    "x_seq.shape, x_fc.shape"
   ]
  },
  {
   "cell_type": "code",
   "execution_count": 112,
   "metadata": {},
   "outputs": [],
   "source": [
    "# class HybridLSTM(nn.Module):\n",
    "#     def __init__(self, input_size_seq, hidden_size, num_layers, input_size_features, output_size):\n",
    "#         super().__init__()\n",
    "\n",
    "#         self.sequence_lstm = nn.LSTM(input_size_seq, hidden_size, num_layers, batch_first=True)\n",
    "#         self.fc_features = nn.Linear(input_size_features, hidden_size)\n",
    "#         self.fc_concat = nn.Linear(hidden_size * 2, hidden_size) \n",
    "#         self.fc_output = nn.Linear(hidden_size, output_size)\n",
    "\n",
    "#     def forward(self, sequence_input, feature_input):\n",
    "#         sequence_output, _ = self.sequence_lstm(sequence_input)  \n",
    "#         feature_output = F.selu(self.fc_features(feature_input))\n",
    "#         concatenated = torch.cat((sequence_output[:, -1, :], feature_output), dim=1)\n",
    "#         concatenated = F.relu(self.fc_concat(concatenated))\n",
    "\n",
    "#         output = self.fc_output(concatenated)\n",
    "#         return output\n",
    "\n",
    "class HybridLSTM(nn.Module):\n",
    "    def __init__(self, input_size_seq, hidden_size, num_layers, input_size_features, output_size):\n",
    "        super(HybridLSTM, self).__init__()\n",
    "\n",
    "        self.sequence_lstm = nn.LSTM(input_size_seq, hidden_size, num_layers, batch_first=True)\n",
    "        self.fc_features1 = nn.Linear(input_size_features, hidden_size)\n",
    "        # self.bn1 = nn.BatchNorm1d(hidden_size)\n",
    "        self.dropout1 = nn.Dropout(0.4)\n",
    "        self.fc_features2 = nn.Linear(hidden_size, hidden_size * 2)  \n",
    "        self.fc_concat = nn.Linear(hidden_size * 3, hidden_size) \n",
    "        self.dropout2 = nn.Dropout(0.2)\n",
    "        self.fc_output = nn.Linear(hidden_size, output_size)\n",
    "\n",
    "    def forward(self, sequence_input, feature_input):\n",
    "        sequence_output, _ = self.sequence_lstm(sequence_input)\n",
    "        feature_output = F.relu(self.fc_features1(feature_input))\n",
    "        # feature_output = self.bn1(feature_output)\n",
    "        feature_output = self.dropout1(feature_output)\n",
    "        feature_output = F.relu(self.fc_features2(feature_output))\n",
    "        concatenated = torch.cat((sequence_output[:, -1, :], feature_output), dim=1)\n",
    "        concatenated = self.dropout2(concatenated)\n",
    "        concatenated = F.relu(self.fc_concat(concatenated))\n",
    "\n",
    "        output = self.fc_output(concatenated)\n",
    "        return output"
   ]
  },
  {
   "cell_type": "code",
   "execution_count": 172,
   "metadata": {},
   "outputs": [],
   "source": [
    "from typing import Dict, List, Tuple\n",
    "\n",
    "def train_step(model: torch.nn.Module,\n",
    "               loader: torch.utils.data.DataLoader,\n",
    "               loss_fn: torch.nn.Module,\n",
    "               optimizer: torch.optim.Optimizer,\n",
    "               device: torch.device) -> Tuple[float, float]:\n",
    "    \n",
    "    model.train()\n",
    "    train_loss = 0\n",
    "    train_rmse = 0\n",
    "\n",
    "    for batch, (X_seq, X_fc, y) in enumerate(loader):\n",
    "        X_seq, X_fc,y = X_seq.to(device), X_fc.to(device), y.to(device)\n",
    "        y_pred = model(X_seq, X_fc)\n",
    "\n",
    "        loss = loss_fn(y_pred, y)\n",
    "        train_loss += loss.item()\n",
    "        train_rmse += compute_rmse(y_pred, y)\n",
    "\n",
    "        optimizer.zero_grad()\n",
    "\n",
    "        loss.backward()\n",
    "\n",
    "        optimizer.step()\n",
    "    \n",
    "    train_loss = train_loss / len(loader)\n",
    "    train_rmse = train_rmse / len(loader)\n",
    "\n",
    "    return train_loss, train_rmse\n",
    "\n",
    "\n",
    "def test_step(model: torch.nn.Module,\n",
    "               loader: torch.utils.data.DataLoader,\n",
    "               loss_fn: torch.nn.Module,\n",
    "               device: torch.device) -> Tuple[float, float]:\n",
    "    \n",
    "    model.eval()\n",
    "\n",
    "    test_loss, test_rmse = 0, 0\n",
    "    with torch.inference_mode():\n",
    "        for batch, (X_seq, X_fc, y) in enumerate(loader):\n",
    "            X_seq, X_fc,y = X_seq.to(device), X_fc.to(device), y.to(device)\n",
    "\n",
    "            test_pred = model(X_seq, X_fc)\n",
    "\n",
    "            loss = loss_fn(test_pred, y)\n",
    "            test_loss += loss.item()\n",
    "\n",
    "            test_rmse += compute_rmse(test_pred, y)\n",
    "        \n",
    "        test_loss = test_loss / len(loader)\n",
    "        test_rmse = test_rmse / len(loader)\n",
    "\n",
    "        return test_loss, test_rmse\n",
    "\n",
    "\n",
    "\n",
    "def train(model: torch.nn.Module, \n",
    "          train_loader: torch.utils.data.DataLoader, \n",
    "          test_loader: torch.utils.data.DataLoader, \n",
    "          optimizer: torch.optim.Optimizer,\n",
    "          loss_fn: torch.nn.Module,\n",
    "          epochs: int,\n",
    "          device: torch.device,\n",
    "          early_stopping: EarlyStopper = None,\n",
    "          full_train: bool = False) -> Dict[str, List]:\n",
    "  \n",
    "\n",
    "    history = {\n",
    "      'train_loss': [],\n",
    "      'train_rmse': [],\n",
    "      'test_loss': [],\n",
    "      'test_rmse': []\n",
    "    }\n",
    "\n",
    "    model.to(device)\n",
    "\n",
    "    for epoch in range(epochs):\n",
    "        train_loss, train_rmse = train_step(model=model,\n",
    "                                        loader= train_loader,\n",
    "                                        loss_fn=loss_fn,\n",
    "                                        optimizer=optimizer,\n",
    "                                        device=device)\n",
    "        if not full_train:\n",
    "            test_loss, test_rmse = test_step(model=model,\n",
    "                                            loader= test_loader,\n",
    "                                            loss_fn=loss_fn,\n",
    "                                            device=device)\n",
    "      \n",
    "            print(\n",
    "                f\"Epoch: {epoch+1} | \"\n",
    "                f\"train_loss: {train_loss:.4f} | \"\n",
    "                f\"train_rmse: {train_rmse:.4f} | \"\n",
    "                f\"test_loss: {test_loss:.4f} | \"\n",
    "                f\"test_rmse: {test_rmse:.4f}\"\n",
    "            )\n",
    "\n",
    "            history[\"train_loss\"].append(train_loss)\n",
    "            history[\"train_rmse\"].append(train_rmse)\n",
    "            history[\"test_loss\"].append(test_loss)\n",
    "            history[\"test_rmse\"].append(test_rmse)\n",
    "            if early_stopping:\n",
    "                if early_stopping.early_stop(test_loss):\n",
    "                    break\n",
    "        else:\n",
    "            print(\n",
    "            f\"train_loss: {train_loss:.4f} | \"\n",
    "            f\"train_rmse: {train_rmse:.4f} | \"\n",
    "            )\n",
    "            history[\"train_loss\"].append(train_loss)\n",
    "            history[\"train_rmse\"].append(train_rmse)\n",
    "\n",
    "    return history\n",
    "        "
   ]
  },
  {
   "cell_type": "code",
   "execution_count": 74,
   "metadata": {},
   "outputs": [
    {
     "name": "stdout",
     "output_type": "stream",
     "text": [
      "Epoch: 1 | train_loss: 0.1170 | train_rmse: 0.3347 | test_loss: 0.0709 | test_rmse: 0.2664\n",
      "Epoch: 2 | train_loss: 0.0642 | train_rmse: 0.2529 | test_loss: 0.0420 | test_rmse: 0.2049\n",
      "Epoch: 3 | train_loss: 0.0384 | train_rmse: 0.1958 | test_loss: 0.0327 | test_rmse: 0.1807\n",
      "Epoch: 4 | train_loss: 0.0325 | train_rmse: 0.1801 | test_loss: 0.0251 | test_rmse: 0.1585\n",
      "Epoch: 5 | train_loss: 0.0222 | train_rmse: 0.1486 | test_loss: 0.0154 | test_rmse: 0.1241\n",
      "Epoch: 6 | train_loss: 0.0170 | train_rmse: 0.1305 | test_loss: 0.0134 | test_rmse: 0.1159\n",
      "Epoch: 7 | train_loss: 0.0152 | train_rmse: 0.1234 | test_loss: 0.0126 | test_rmse: 0.1124\n",
      "Epoch: 8 | train_loss: 0.0148 | train_rmse: 0.1217 | test_loss: 0.0124 | test_rmse: 0.1115\n",
      "Epoch: 9 | train_loss: 0.0147 | train_rmse: 0.1210 | test_loss: 0.0125 | test_rmse: 0.1118\n",
      "Epoch: 10 | train_loss: 0.0145 | train_rmse: 0.1204 | test_loss: 0.0126 | test_rmse: 0.1121\n"
     ]
    }
   ],
   "source": [
    "LEARNING_RATE = 0.001\n",
    "INPUT_SIZE_SEQ = 1\n",
    "INPUT_SIZE_FEAT = 18\n",
    "hidden_size = 16\n",
    "num_layers = 2\n",
    "OUTPUT_SIZE = 1\n",
    "EPOCHS = 10\n",
    "\n",
    "model = HybridLSTM(INPUT_SIZE_SEQ, hidden_size, num_layers, INPUT_SIZE_FEAT, OUTPUT_SIZE)\n",
    "model.to(device)\n",
    "\n",
    "loss = nn.MSELoss()\n",
    "optimizer = torch.optim.Adam(model.parameters(), lr = LEARNING_RATE)\n",
    "\n",
    "history = train(model=model,\n",
    "            train_loader=train_loader,\n",
    "            test_loader=test_loader,\n",
    "            optimizer=optimizer,\n",
    "            loss_fn = loss,\n",
    "            device = device,\n",
    "            epochs = EPOCHS,\n",
    "            early_stopping=EarlyStopper(patience=0, min_delta=0.001))"
   ]
  },
  {
   "cell_type": "code",
   "execution_count": 114,
   "metadata": {},
   "outputs": [],
   "source": [
    "df = pd.read_csv('../datasets/train_dataset.csv')\n",
    "df = df[df.status == 1]\n",
    "assert df[(df.is_renting != 1) & (df.is_installed != 1)].shape[0] == 0"
   ]
  },
  {
   "cell_type": "code",
   "execution_count": 149,
   "metadata": {},
   "outputs": [],
   "source": [
    "import calendar\n",
    "\n",
    "test_df = pd.read_csv('../datasets/sub_dataset.csv', index_col=0)\n",
    "test_df = test_df.sort_index()\n",
    "\n",
    "march_2023_dict = {}\n",
    "for day in range(1, 32):\n",
    "    weekday = calendar.weekday(2023, 3, day)\n",
    "    march_2023_dict[day] = weekday\n",
    "\n",
    "test_df['dayofweek'] = test_df.day.map(march_2023_dict)"
   ]
  },
  {
   "cell_type": "code",
   "execution_count": 150,
   "metadata": {},
   "outputs": [],
   "source": [
    "X = preprocess(df)\n",
    "y = X.pop(TARGET)"
   ]
  },
  {
   "cell_type": "code",
   "execution_count": 151,
   "metadata": {},
   "outputs": [
    {
     "data": {
      "text/html": [
       "<div>\n",
       "<style scoped>\n",
       "    .dataframe tbody tr th:only-of-type {\n",
       "        vertical-align: middle;\n",
       "    }\n",
       "\n",
       "    .dataframe tbody tr th {\n",
       "        vertical-align: top;\n",
       "    }\n",
       "\n",
       "    .dataframe thead th {\n",
       "        text-align: right;\n",
       "    }\n",
       "</style>\n",
       "<table border=\"1\" class=\"dataframe\">\n",
       "  <thead>\n",
       "    <tr style=\"text-align: right;\">\n",
       "      <th></th>\n",
       "      <th>ctx-4</th>\n",
       "      <th>ctx-3</th>\n",
       "      <th>ctx-2</th>\n",
       "      <th>ctx-1</th>\n",
       "      <th>season</th>\n",
       "      <th>altitude</th>\n",
       "      <th>temp</th>\n",
       "      <th>humidity</th>\n",
       "      <th>lat</th>\n",
       "      <th>lon</th>\n",
       "      <th>dayofweek</th>\n",
       "      <th>sin_time</th>\n",
       "      <th>cos_time</th>\n",
       "    </tr>\n",
       "  </thead>\n",
       "  <tbody>\n",
       "    <tr>\n",
       "      <th>0</th>\n",
       "      <td>0.474638</td>\n",
       "      <td>0.507246</td>\n",
       "      <td>0.570652</td>\n",
       "      <td>0.617754</td>\n",
       "      <td>winter</td>\n",
       "      <td>16.0</td>\n",
       "      <td>39.4</td>\n",
       "      <td>88.17</td>\n",
       "      <td>41.397978</td>\n",
       "      <td>2.180107</td>\n",
       "      <td>2.0</td>\n",
       "      <td>-0.756802</td>\n",
       "      <td>-0.653644</td>\n",
       "    </tr>\n",
       "    <tr>\n",
       "      <th>1</th>\n",
       "      <td>0.324713</td>\n",
       "      <td>0.206897</td>\n",
       "      <td>0.037356</td>\n",
       "      <td>0.080460</td>\n",
       "      <td>winter</td>\n",
       "      <td>17.0</td>\n",
       "      <td>39.4</td>\n",
       "      <td>88.17</td>\n",
       "      <td>41.395488</td>\n",
       "      <td>2.177198</td>\n",
       "      <td>2.0</td>\n",
       "      <td>-0.756802</td>\n",
       "      <td>-0.653644</td>\n",
       "    </tr>\n",
       "  </tbody>\n",
       "</table>\n",
       "</div>"
      ],
      "text/plain": [
       "      ctx-4     ctx-3     ctx-2     ctx-1  season  altitude  temp  humidity  \\\n",
       "0  0.474638  0.507246  0.570652  0.617754  winter      16.0  39.4     88.17   \n",
       "1  0.324713  0.206897  0.037356  0.080460  winter      17.0  39.4     88.17   \n",
       "\n",
       "         lat       lon  dayofweek  sin_time  cos_time  \n",
       "0  41.397978  2.180107        2.0 -0.756802 -0.653644  \n",
       "1  41.395488  2.177198        2.0 -0.756802 -0.653644  "
      ]
     },
     "execution_count": 151,
     "metadata": {},
     "output_type": "execute_result"
    }
   ],
   "source": [
    "X.head(2)"
   ]
  },
  {
   "cell_type": "code",
   "execution_count": 152,
   "metadata": {},
   "outputs": [],
   "source": [
    "X_test = preprocess(test_df, test = True)"
   ]
  },
  {
   "cell_type": "code",
   "execution_count": 153,
   "metadata": {},
   "outputs": [
    {
     "data": {
      "text/html": [
       "<div>\n",
       "<style scoped>\n",
       "    .dataframe tbody tr th:only-of-type {\n",
       "        vertical-align: middle;\n",
       "    }\n",
       "\n",
       "    .dataframe tbody tr th {\n",
       "        vertical-align: top;\n",
       "    }\n",
       "\n",
       "    .dataframe thead th {\n",
       "        text-align: right;\n",
       "    }\n",
       "</style>\n",
       "<table border=\"1\" class=\"dataframe\">\n",
       "  <thead>\n",
       "    <tr style=\"text-align: right;\">\n",
       "      <th></th>\n",
       "      <th>ctx-4</th>\n",
       "      <th>ctx-3</th>\n",
       "      <th>ctx-2</th>\n",
       "      <th>ctx-1</th>\n",
       "      <th>season</th>\n",
       "      <th>altitude</th>\n",
       "      <th>temp</th>\n",
       "      <th>humidity</th>\n",
       "      <th>lat</th>\n",
       "      <th>lon</th>\n",
       "      <th>dayofweek</th>\n",
       "      <th>sin_time</th>\n",
       "      <th>cos_time</th>\n",
       "    </tr>\n",
       "    <tr>\n",
       "      <th>index</th>\n",
       "      <th></th>\n",
       "      <th></th>\n",
       "      <th></th>\n",
       "      <th></th>\n",
       "      <th></th>\n",
       "      <th></th>\n",
       "      <th></th>\n",
       "      <th></th>\n",
       "      <th></th>\n",
       "      <th></th>\n",
       "      <th></th>\n",
       "      <th></th>\n",
       "      <th></th>\n",
       "    </tr>\n",
       "  </thead>\n",
       "  <tbody>\n",
       "    <tr>\n",
       "      <th>0</th>\n",
       "      <td>0.753086</td>\n",
       "      <td>0.780864</td>\n",
       "      <td>0.799383</td>\n",
       "      <td>0.824074</td>\n",
       "      <td>spring</td>\n",
       "      <td>25</td>\n",
       "      <td>41.6</td>\n",
       "      <td>79.20</td>\n",
       "      <td>41.387306</td>\n",
       "      <td>2.163126</td>\n",
       "      <td>1</td>\n",
       "      <td>0.989358</td>\n",
       "      <td>-0.145500</td>\n",
       "    </tr>\n",
       "    <tr>\n",
       "      <th>1</th>\n",
       "      <td>0.463768</td>\n",
       "      <td>0.536232</td>\n",
       "      <td>0.532609</td>\n",
       "      <td>0.601449</td>\n",
       "      <td>spring</td>\n",
       "      <td>117</td>\n",
       "      <td>63.8</td>\n",
       "      <td>64.73</td>\n",
       "      <td>41.398624</td>\n",
       "      <td>2.120494</td>\n",
       "      <td>3</td>\n",
       "      <td>-0.536573</td>\n",
       "      <td>0.843854</td>\n",
       "    </tr>\n",
       "  </tbody>\n",
       "</table>\n",
       "</div>"
      ],
      "text/plain": [
       "          ctx-4     ctx-3     ctx-2     ctx-1  season  altitude  temp  \\\n",
       "index                                                                   \n",
       "0      0.753086  0.780864  0.799383  0.824074  spring        25  41.6   \n",
       "1      0.463768  0.536232  0.532609  0.601449  spring       117  63.8   \n",
       "\n",
       "       humidity        lat       lon  dayofweek  sin_time  cos_time  \n",
       "index                                                                \n",
       "0         79.20  41.387306  2.163126          1  0.989358 -0.145500  \n",
       "1         64.73  41.398624  2.120494          3 -0.536573  0.843854  "
      ]
     },
     "execution_count": 153,
     "metadata": {},
     "output_type": "execute_result"
    }
   ],
   "source": [
    "X_test.head(2)"
   ]
  },
  {
   "cell_type": "code",
   "execution_count": 154,
   "metadata": {},
   "outputs": [],
   "source": [
    "pipe.fit(X,y)\n",
    "X_proc = pipe.transform(X)\n",
    "X_test_proc = pipe.transform(X_test)"
   ]
  },
  {
   "cell_type": "code",
   "execution_count": 176,
   "metadata": {},
   "outputs": [],
   "source": [
    "def prepare_test(data: pd.DataFrame) -> Tuple:\n",
    "    X = data.copy()\n",
    "    x_seq = torch.tensor(X[ctx_cols].values.astype('float32'), dtype=torch.float32).reshape(-1, SEQUENCE_LENGTH, 1).to(device)\n",
    "    x_fc = torch.tensor(X[non_seq_cols].values.astype('float32'), dtype = torch.float32).to(device)\n",
    "    return x_seq, x_fc"
   ]
  },
  {
   "cell_type": "code",
   "execution_count": 164,
   "metadata": {},
   "outputs": [],
   "source": [
    "full_train_ds = HybridDataset(X_proc, y)"
   ]
  },
  {
   "cell_type": "code",
   "execution_count": 167,
   "metadata": {},
   "outputs": [],
   "source": [
    "full_train_dl = DataLoader(full_train_ds, batch_size=BATCH_SIZE, shuffle = True)"
   ]
  },
  {
   "cell_type": "code",
   "execution_count": 173,
   "metadata": {},
   "outputs": [
    {
     "name": "stdout",
     "output_type": "stream",
     "text": [
      "train_loss: 0.1375 | train_rmse: 0.3633 | \n",
      "train_loss: 0.0597 | train_rmse: 0.2437 | \n",
      "train_loss: 0.0371 | train_rmse: 0.1925 | \n",
      "train_loss: 0.0323 | train_rmse: 0.1797 | \n",
      "train_loss: 0.0244 | train_rmse: 0.1558 | \n",
      "train_loss: 0.0172 | train_rmse: 0.1310 | \n",
      "train_loss: 0.0149 | train_rmse: 0.1223 | \n",
      "train_loss: 0.0144 | train_rmse: 0.1201 | \n"
     ]
    }
   ],
   "source": [
    "LEARNING_RATE = 0.001\n",
    "INPUT_SIZE_SEQ = 1\n",
    "INPUT_SIZE_FEAT = 18\n",
    "hidden_size = 16\n",
    "num_layers = 2\n",
    "OUTPUT_SIZE = 1\n",
    "EPOCHS = 8\n",
    "\n",
    "model = HybridLSTM(INPUT_SIZE_SEQ, hidden_size, num_layers, INPUT_SIZE_FEAT, OUTPUT_SIZE)\n",
    "model.to(device)\n",
    "\n",
    "loss = nn.MSELoss()\n",
    "optimizer = torch.optim.Adam(model.parameters(), lr = LEARNING_RATE)\n",
    "\n",
    "history = train(model=model,\n",
    "            train_loader=train_loader,\n",
    "            test_loader=None,\n",
    "            optimizer=optimizer,\n",
    "            loss_fn = loss,\n",
    "            device = device,\n",
    "            epochs = EPOCHS,\n",
    "            early_stopping=EarlyStopper(patience=0, min_delta=0.001),\n",
    "            full_train=True)"
   ]
  },
  {
   "cell_type": "code",
   "execution_count": 177,
   "metadata": {},
   "outputs": [],
   "source": [
    "x_test_seq, x_test_fc = prepare_test(X_test_proc)\n",
    "model.eval()\n",
    "\n",
    "with torch.no_grad():\n",
    "    y_pred = model(x_test_seq, x_test_fc)\n"
   ]
  },
  {
   "cell_type": "code",
   "execution_count": 180,
   "metadata": {},
   "outputs": [],
   "source": [
    "sample_sub = pd.read_csv('../data/submission_data/sample_submission.csv')"
   ]
  },
  {
   "cell_type": "code",
   "execution_count": 186,
   "metadata": {},
   "outputs": [
    {
     "data": {
      "text/plain": [
       "tensor([[0.7685],\n",
       "        [0.5669],\n",
       "        [0.5776],\n",
       "        ...,\n",
       "        [0.7142],\n",
       "        [0.2233],\n",
       "        [0.8309]], device='cuda:0')"
      ]
     },
     "execution_count": 186,
     "metadata": {},
     "output_type": "execute_result"
    }
   ],
   "source": [
    "y_pred.detach()"
   ]
  },
  {
   "cell_type": "code",
   "execution_count": 189,
   "metadata": {},
   "outputs": [],
   "source": [
    "sample_sub[TARGET] = y_pred.cpu()"
   ]
  },
  {
   "cell_type": "code",
   "execution_count": 191,
   "metadata": {},
   "outputs": [],
   "source": [
    "sample_sub.to_csv('./submissions/hybridlstm.csv', index = None)"
   ]
  }
 ],
 "metadata": {
  "kernelspec": {
   "display_name": "myenv",
   "language": "python",
   "name": "python3"
  },
  "language_info": {
   "codemirror_mode": {
    "name": "ipython",
    "version": 3
   },
   "file_extension": ".py",
   "mimetype": "text/x-python",
   "name": "python",
   "nbconvert_exporter": "python",
   "pygments_lexer": "ipython3",
   "version": "3.9.0"
  },
  "orig_nbformat": 4
 },
 "nbformat": 4,
 "nbformat_minor": 2
}
