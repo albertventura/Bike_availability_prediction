{
 "cells": [
  {
   "cell_type": "code",
   "execution_count": 16,
   "metadata": {},
   "outputs": [],
   "source": [
    "import pandas as pd\n",
    "import os"
   ]
  },
  {
   "cell_type": "code",
   "execution_count": 3,
   "metadata": {},
   "outputs": [],
   "source": [
    "DATA_PATH = '../data/meteo_data'\n",
    "met_files = os.listdir(DATA_PATH)"
   ]
  },
  {
   "cell_type": "code",
   "execution_count": 173,
   "metadata": {},
   "outputs": [],
   "source": [
    "df = pd.DataFrame()\n",
    "for file in met_files:\n",
    "    df_file = pd.read_csv(os.path.join(DATA_PATH, file), index_col=0)\n",
    "    if 'Unnamed: 0' in df_file.columns:\n",
    "        df_file = df_file.drop('Unnamed: 0', axis = 1)\n",
    "    df = pd.concat((df, df_file))\n",
    "    \n",
    "\n",
    "df = df.reset_index(drop=True)"
   ]
  },
  {
   "cell_type": "code",
   "execution_count": 174,
   "metadata": {},
   "outputs": [
    {
     "data": {
      "text/plain": [
       "(32209, 26)"
      ]
     },
     "execution_count": 174,
     "metadata": {},
     "output_type": "execute_result"
    }
   ],
   "source": [
    "df.shape "
   ]
  },
  {
   "cell_type": "code",
   "execution_count": 175,
   "metadata": {},
   "outputs": [],
   "source": [
    "cols_without_nans = df.isna().sum()[(df.isna().sum() == 0)].index"
   ]
  },
  {
   "cell_type": "code",
   "execution_count": 177,
   "metadata": {},
   "outputs": [
    {
     "data": {
      "text/plain": [
       "Index(['datetime', 'datetimeEpoch', 'temp', 'feelslike', 'humidity', 'dew',\n",
       "       'precip', 'precipprob', 'windspeed', 'winddir', 'cloudcover',\n",
       "       'conditions', 'icon', 'stations', 'source'],\n",
       "      dtype='object')"
      ]
     },
     "execution_count": 177,
     "metadata": {},
     "output_type": "execute_result"
    }
   ],
   "source": [
    "cols_without_nans"
   ]
  },
  {
   "cell_type": "code",
   "execution_count": 178,
   "metadata": {},
   "outputs": [],
   "source": [
    "df = df[cols_without_nans]"
   ]
  },
  {
   "cell_type": "code",
   "execution_count": 180,
   "metadata": {},
   "outputs": [],
   "source": [
    "from pytz import timezone\n",
    "\n",
    "\n",
    "local_time = timezone('Europe/Madrid')\n",
    "utc_time = timezone('UTC')\n",
    "\n",
    "df['datetimeEpoch'] = pd.to_datetime(df['datetimeEpoch'], unit = 's')\n",
    "df['datetimeEpoch'] = df.datetimeEpoch.dt.tz_localize(utc_time)\n",
    "df['datetimeEpoch'] = df.datetimeEpoch.dt.tz_convert(local_time)\n",
    "df['datetimeEpoch'] = pd.to_datetime(df.datetimeEpoch)\n",
    "df['month'] = df.datetimeEpoch.dt.month\n",
    "df['day'] = df.datetimeEpoch.dt.day\n",
    "df['hour'] = df.datetimeEpoch.dt.hour\n",
    "df['year'] = df.datetimeEpoch.dt.year"
   ]
  },
  {
   "cell_type": "code",
   "execution_count": 181,
   "metadata": {},
   "outputs": [],
   "source": [
    "clean_df = df[(df.year != 2023)].drop_duplicates(keep='first')"
   ]
  },
  {
   "cell_type": "code",
   "execution_count": 184,
   "metadata": {},
   "outputs": [
    {
     "data": {
      "text/plain": [
       "26304"
      ]
     },
     "execution_count": 184,
     "metadata": {},
     "output_type": "execute_result"
    }
   ],
   "source": [
    "(365*2 + 366)*24"
   ]
  },
  {
   "cell_type": "code",
   "execution_count": 201,
   "metadata": {},
   "outputs": [
    {
     "data": {
      "text/plain": [
       "<DstTzInfo 'Europe/Madrid' CET+1:00:00 STD>"
      ]
     },
     "execution_count": 201,
     "metadata": {},
     "output_type": "execute_result"
    }
   ],
   "source": [
    "clean_df"
   ]
  },
  {
   "cell_type": "code",
   "execution_count": 204,
   "metadata": {},
   "outputs": [
    {
     "data": {
      "text/plain": [
       "1      True\n",
       "2      True\n",
       "3     False\n",
       "4      True\n",
       "5      True\n",
       "6      True\n",
       "7      True\n",
       "8      True\n",
       "9      True\n",
       "10    False\n",
       "11     True\n",
       "12     True\n",
       "Name: month, dtype: bool"
      ]
     },
     "execution_count": 204,
     "metadata": {},
     "output_type": "execute_result"
    }
   ],
   "source": [
    "(\n",
    "    (clean_df.month.value_counts().sort_index() == 24*31*3) \n",
    "    | (clean_df.month.value_counts().sort_index() == 24*30*3) \n",
    "    | (clean_df.month.value_counts().sort_index() == 24*(28*2+29))\n",
    "    )"
   ]
  },
  {
   "cell_type": "code",
   "execution_count": 207,
   "metadata": {},
   "outputs": [
    {
     "data": {
      "text/plain": [
       "0       2020-01-01 00:00:00+01:00\n",
       "1       2020-01-01 01:00:00+01:00\n",
       "2       2020-01-01 02:00:00+01:00\n",
       "3       2020-01-01 03:00:00+01:00\n",
       "4       2020-01-01 04:00:00+01:00\n",
       "                   ...           \n",
       "29948   2022-12-31 19:00:00+01:00\n",
       "29949   2022-12-31 20:00:00+01:00\n",
       "29950   2022-12-31 21:00:00+01:00\n",
       "29951   2022-12-31 22:00:00+01:00\n",
       "29952   2022-12-31 23:00:00+01:00\n",
       "Name: datetimeEpoch, Length: 26306, dtype: datetime64[ns, Europe/Madrid]"
      ]
     },
     "execution_count": 207,
     "metadata": {},
     "output_type": "execute_result"
    }
   ],
   "source": [
    "clean_df.datetimeEpoch"
   ]
  },
  {
   "cell_type": "code",
   "execution_count": 209,
   "metadata": {},
   "outputs": [
    {
     "data": {
      "text/plain": [
       "'../data/meteo_data'"
      ]
     },
     "execution_count": 209,
     "metadata": {},
     "output_type": "execute_result"
    }
   ],
   "source": [
    "DATA_PATH"
   ]
  },
  {
   "cell_type": "code",
   "execution_count": 210,
   "metadata": {},
   "outputs": [],
   "source": [
    "clean_df.to_csv(DATA_PATH + '/cleaned_meteo_data_until_2022.csv')"
   ]
  }
 ],
 "metadata": {
  "kernelspec": {
   "display_name": "CapstoneProject",
   "language": "python",
   "name": "python3"
  },
  "language_info": {
   "codemirror_mode": {
    "name": "ipython",
    "version": 3
   },
   "file_extension": ".py",
   "mimetype": "text/x-python",
   "name": "python",
   "nbconvert_exporter": "python",
   "pygments_lexer": "ipython3",
   "version": "3.11.3"
  },
  "orig_nbformat": 4
 },
 "nbformat": 4,
 "nbformat_minor": 2
}
